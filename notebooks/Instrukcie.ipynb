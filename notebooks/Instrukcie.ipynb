{
 "cells": [
  {
   "cell_type": "markdown",
   "metadata": {},
   "source": [
    "**Autor:** Jozef Hanč <br> \n",
    "[Prírodovedecká fakulta](https://www.upjs.sk/prirodovedecka-fakulta/) *Univerzity P.J. Šafárika v Košiciach* <br> \n",
    "email: [jozef.hanc@upjs.sk](mailto:jozef.hanc@upjs.sk)\n",
    "\n",
    "***\n",
    "**<font size=6 color=brown> Práca s Jupyter notebookom na Binder úložisku </font>**\n",
    "\n",
    "**Ref.** Toto Binder úložisko bolo vytvorené a modifikované\n",
    "na základe úložiska https://github.com/calculuslab/Calculus_Lab\n",
    "\n",
    "Pre plné zobrazenie tohto návodu **vykonajte príkaz** v menu `Cell -> Run All`\n",
    "alebo si tento návod pozrite v [notebook vieweri.](https://nbviewer.org/github/hancjozef/Sage-UPJS/blob/main/Workspace/Instrukcie.ipynb)"
   ]
  },
  {
   "cell_type": "markdown",
   "metadata": {},
   "source": [
    "### Workspace\n",
    "\n",
    "Daný pracovný priestor (Workspace) je adresár na Binder úložisku. *Spustite ho bez nutnosti inštalácie priamo vo svojom prehliadači na adrese*  \n",
    "https://bit.ly/UPJS-Sage. \n",
    "\n",
    "V tomto pracovnom priestore môžete vytvárať vlastné Jupyter notebooky, resp. nahrávať (upload) už vytvorené podľa nasledovných krokov\n",
    "\n",
    "- **Nový Jupyter notebook:** Ak chcete vytvoriť nový Jupyter notebook so Sageom ako výpočtovým kernelom (hovoríme o Sage notebooku), jednoducho kliknite na `New` v pravom hornom rohu stránky adresára a vyberte `SageMath`. Možné je však zvoliť aj iný výpočtový kernel (Python, R, Julia, Octave, JavaScript).\n",
    "\n",
    "- **Existujúci Jupyter notebook:** Ak chcete pracovať s už vytvoreným Jupyter notebookom, kliknite na tlačidlo `Upload` v pravom hornom rohu a z počítača vyberte a následne nahrajte zodpovedajúci notebook.\n",
    "\n",
    "### Ťaháky pre prácu so Sage notebookom\n",
    "Sage notebookom je Jupyter notebook so Sageom ako výpočtovým kernelom. Tu sú základné ťaháky pre prácu so Sage notebookom\n",
    "- [Analýza](https://drive.google.com/file/d/1j3UV-MOOJNM_6CNXBJLTaB8dXMsVEdZx/preview), [Algebra](https://drive.google.com/file/d/1mPK3hbp1ZdHqapRiRwj3JQftBDbaWn03/preview)\n",
    "- [Jupyter](https://docs.google.com/document/d/1SfarPTitlITzPuQSM6Ocs31RNKcU4ZLzCpgfcjvuQ0k/preview), [Markdown](https://drive.google.com/file/d/18iqgfQILf7h7LeRy4cxssYUMaSs2kmXy/preview)"
   ]
  },
  {
   "cell_type": "markdown",
   "metadata": {},
   "source": [
    "### Ukončenie práce na Binderi\n",
    "Po ukončení práce v Binder adresári sa vami vytvorený alebo modifikovaný notebook **neuloží**. \n",
    "**Je potrebné si ho predtým stiahnuť** a to cez ponuku   \n",
    "`File -> Download as -> Notebook (.ipynb)`, prípadne aj v inom formáte. "
   ]
  },
  {
   "cell_type": "markdown",
   "metadata": {},
   "source": [
    "**V nasledovnom videonávode** sú zosumarizované všetky základné kroky práce v Binderi."
   ]
  },
  {
   "cell_type": "code",
   "execution_count": 4,
   "metadata": {},
   "outputs": [
    {
     "data": {
      "image/jpeg": "[encoded data removed]",
      "text/html": [
       "\n",
       "        <iframe\n",
       "            width=\"600\"\n",
       "            height=\"430\"\n",
       "            src=\"https://www.youtube.com/embed/l788JSsQqmg?start=193\"\n",
       "            frameborder=\"0\"\n",
       "            allowfullscreen\n",
       "        ></iframe>\n",
       "        "
      ],
      "text/plain": [
       "<IPython.lib.display.YouTubeVideo object at 0x6ffb65d64910>"
      ]
     },
     "execution_count": 4,
     "metadata": {},
     "output_type": "execute_result"
    }
   ],
   "source": [
    "from IPython.display import YouTubeVideo\n",
    "YouTubeVideo('l788JSsQqmg', 600, 430, start=193)"
   ]
  },
  {
   "cell_type": "markdown",
   "metadata": {},
   "source": [
    "### Ako postupovať pri odpojení notebooku z Bindera\n",
    "Niekedy sa stane, že vás služba Binder pri dlhšej nečinnosti, alebo\n",
    "z istých technických príčin môže odpojiť zo služby. V takom prípade notebook nevieme\n",
    "stiahnuť vyššie uvedeným spôsobom, ale je potrebné postupovať **podľa nasledovného videonávodu.**"
   ]
  },
  {
   "cell_type": "code",
   "execution_count": 7,
   "metadata": {},
   "outputs": [
    {
     "data": {
      "image/jpeg": "[encoded data removed]",
      "text/html": [
       "\n",
       "        <iframe\n",
       "            width=\"600\"\n",
       "            height=\"430\"\n",
       "            src=\"https://www.youtube.com/embed/nGMtxGecD_0\"\n",
       "            frameborder=\"0\"\n",
       "            allowfullscreen\n",
       "        ></iframe>\n",
       "        "
      ],
      "text/plain": [
       "<IPython.lib.display.YouTubeVideo object at 0x6ffb65d89d50>"
      ]
     },
     "execution_count": 7,
     "metadata": {},
     "output_type": "execute_result"
    }
   ],
   "source": [
    "from IPython.display import YouTubeVideo\n",
    "YouTubeVideo('nGMtxGecD_0',600,430)"
   ]
  }
 ],
 "metadata": {
  "kernelspec": {
   "display_name": "SageMath 9.2",
   "language": "sage",
   "name": "sagemath"
  },
  "language_info": {
   "codemirror_mode": {
    "name": "ipython",
    "version": 3
   },
   "file_extension": ".py",
   "mimetype": "text/x-python",
   "name": "python",
   "nbconvert_exporter": "python",
   "pygments_lexer": "ipython3",
   "version": "3.7.7"
  }
 },
 "nbformat": 4,
 "nbformat_minor": 2
}
